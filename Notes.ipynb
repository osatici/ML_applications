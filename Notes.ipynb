{
 "cells": [
  {
   "cell_type": "code",
   "execution_count": null,
   "metadata": {
    "vscode": {
     "languageId": "plaintext"
    }
   },
   "outputs": [],
   "source": [
    "# Notes"
   ]
  },
  {
   "cell_type": "markdown",
   "metadata": {},
   "source": [
    "Cross validation\n",
    "\n",
    "Confusion matrix\n",
    "\n",
    "Sensitivity:true positive rate or recall, (TP/(TP+FN)): proportion of actual positives that are identified correctly\n",
    "Specificity: true negative rate. (TN/(TN+FP)). out of the actual negatives that are identified correctly\n",
    "Precision: (TP/(TP+FP)) :proportion of positive identifications that were actually correct.\n",
    "F1-score: 2x((precisionxrecall)/(precision+recall)):  balances precision and recall\n"
   ]
  },
  {
   "cell_type": "markdown",
   "metadata": {},
   "source": []
  }
 ],
 "metadata": {
  "language_info": {
   "name": "python"
  }
 },
 "nbformat": 4,
 "nbformat_minor": 2
}
